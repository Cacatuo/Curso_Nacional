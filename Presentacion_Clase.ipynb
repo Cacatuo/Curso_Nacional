{
 "cells": [
  {
   "cell_type": "markdown",
   "metadata": {},
   "source": [
    "# Modelo Planeamiento Transmisión DC una etapa\n",
    "El modelo de planeamiento de la transmisión a muy largo plazo de forma <b>DC</b> es un modelo MINLP (Programación no lineal entero mixto)\n",
    "Tiene como fin obtener la red futura de transmisión.\n",
    "\n",
    "## Simplificaciones\n",
    "El modelo considerado realiza bastantes simplificaciones al problema de planeamiento de la transmissión (<i>TNEP por sus siglas en inglés</i>), entre las cuales se tiene:\n",
    "<ol>\n",
    "<li>Modelo DC</li>\n",
    "<li>Expansión de líneas únicamente</li>\n",
    "<li>No considera contingencias</li>\n",
    "<li>No considera cortocircuito</li>\n",
    "<li>No es multietapa</li>\n",
    "<li>Entre otras</li>\n",
    "</ol>\n",
    "\n",
    "En las siguientes secciones se observa el problema de planeamiento considerado\n"
   ]
  },
  {
   "cell_type": "markdown",
   "metadata": {},
   "source": [
    "## Modelo MINLP DC\n",
    "Como se dijo anteriormente, el modelo considera la expansión en líneas de transmisión sujeto a unas restricciones técnicas tales como:\n",
    "<ul>\n",
    "<li>Cumplimiento de las ecuaciones de balance nodal</li>\n",
    "<li>Límite máximo de transferencia de potencia por las líneas</li>\n",
    "<li>Límite máximo de potencia de los generadores</li>\n",
    "</ul>"
   ]
  },
  {
   "cell_type": "markdown",
   "metadata": {},
   "source": [
    "$$ \\min \\sum_{ij \\in \\Omega_L} c_{ij} n_{ij}\\\\\n",
    "\\textit{s.t.}\\\\\n",
    "\\sum_{ij \\in \\Omega_L} f_{ij} - \\sum_{ji \\in \\Omega_L} f_{ji} + g_{i} = d_{i} \\quad \\forall i \\in \\Omega_b \\\\\n",
    "f_{ij} - b_{ij}(\\theta_i-\\theta_j)(n_{ij}^0+n_{ij}) = 0 \\quad \\forall ij \\in \\Omega_L\\\\\n",
    "|f_{ij}| \\leq (n_{ij}^0+n_{ij})\\overline{f_{ij}} \\quad \\forall ij \\in \\Omega_L \\\\\n",
    "0 \\leq n_{ij} \\leq \\overline{n_{ij}} \\quad \\forall ij \\in \\Omega_L \\\\\n",
    "\\underline{g_i} \\leq g_i \\leq \\overline{g_i} \\quad \\forall i \\in \\Omega_b\\\\\n",
    "n_{ij} \\in \\mathbb{N}\\\\\n",
    "\\Omega_L \\subset \\Omega_b \\times \\Omega_b\n",
    " $$\n",
    "\n"
   ]
  },
  {
   "cell_type": "markdown",
   "metadata": {},
   "source": [
    "La ecuación $ f_{ij} - b_{ij}(\\theta_i-\\theta_j)(n_{ij}^0+n_{ij}) = 0 $ es una ecuación no lineal, pero esta puede ser linealizada mediante un modelo disyuntivo.<br>\n",
    "El modelo disyuntivo agrega una nueva variable $y_{ijk}$ por cada corredor adicional que se pueda agregar en el corredor <i>i-j</i><br>\n",
    "El nuevo modelo es:"
   ]
  },
  {
   "cell_type": "markdown",
   "metadata": {},
   "source": [
    "$$ \\min \\sum_{ij \\in \\Omega_L} c_{ij} \\sum_{k \\in K_{ij}} y_{ijk} + \\alpha \\sum_{i \\in \\Omega_b} r_i\\\\\n",
    "\\textit{s.t.}\\\\\n",
    "\\sum_{ij \\in \\Omega_L} f_{ij} - \\sum_{ji \\in \\Omega_L} f_{ji} + g_{i} +r_{i}= d_{i} \\quad \\forall i \\in \\Omega_b \\\\\n",
    "f_{ij} - b_{ij}(\\theta_i-\\theta_j)n_{ij}^0 - \\sum_{k \\in K_{ij}} f_{ijk} = 0 \\quad \\forall ij \\in \\Omega_L\\\\\n",
    "|f_{ij}| \\leq (n_{ij}^0+\\sum_{k \\in K_{ij}} y_{ijk})\\overline{f_{ij}} \\quad \\forall ij \\in \\Omega_L \\\\\n",
    "-M\\cdot(1-y_{ijk}) \\leq f_{ijk} - b_{ij}(\\theta_i - \\theta_j) \\leq M\\cdot(1-y_{ijk}) \\quad \\forall k \\in K_{ij}, ij \\in \\Omega_L\\\\\n",
    "-My_{ijk} \\leq f_{ijk} \\leq My_{ijk} \\quad \\forall k \\in K_{ij}, ij \\in \\Omega_L\\\\\n",
    "\\sum_{k \\in K_{ij}} y_{ijk} \\leq \\overline{n_{ij}} \\quad \\forall ij \\in \\Omega_L\\\\\n",
    "y_{ijk} \\in \\{0,1\\} \\quad \\forall k \\in K_{ij}, ij \\in \\Omega_L\\\\\n",
    "\\underline{g_i} \\leq g_i \\leq \\overline{g_i} \\quad \\forall i \\in \\Omega_b\\\\\n",
    "\\Omega_L \\subset \\Omega_b \\times \\Omega_b\n",
    " $$\n",
    "\n"
   ]
  },
  {
   "cell_type": "markdown",
   "metadata": {},
   "source": [
    "## Modelo en Pyomo\n",
    "Pyomo es un paquete de python, que se usa para formular, resolver (ayuda de solvers) y analizar modelos de optimización <br>\n",
    "Es un lenguaje de modelado algebráico. De acuerdo a su [descripción](http://www.pyomo.org/about), **Pyomo** tiene la capacidad de modelar problemas de tipo:\n",
    "<ul>\n",
    "<li>LP</li>\n",
    "<li>QP</li>\n",
    "<li>NLP</li>\n",
    "<li><p><strong>MILP</strong></p></li>\n",
    "<li>MIQP</li>\n",
    "<li>MINLP</li>\n",
    "<li>SP</li>\n",
    "<li>GDP</li>\n",
    "<li>DAE</li>\n",
    "<li>Bilevel Programming</li>\n",
    "<li>MPEC</li>\n",
    "</ul>\n"
   ]
  },
  {
   "cell_type": "markdown",
   "metadata": {},
   "source": [
    "## Sistema a resolver\n",
    "![sistema](Sistema_4bar_fig.jpg)"
   ]
  },
  {
   "cell_type": "markdown",
   "metadata": {},
   "source": [
    "## Modelo en pyomo\n",
    "Los parámetros del modelo son los siguientes:<br>\n",
    "**\\# barras**:4<br>\n",
    "**\\# lineas**:5<br>\n",
    "<i>Parámetros de las barras</i>\n",
    "\n",
    "| Barra | Dem  | Gmin | Gmax |\n",
    "| :---- | :--- | :--- | :--- |\n",
    "| 1     | 0    | 0    | 1,05 |\n",
    "| 2     | 0,6  | 0    | 0    |\n",
    "| 3     | 0,2  | 0    | 0    |\n",
    "| 4     | 0,25 | 0    | 0    |\n",
    "\n",
    "<i>Parámetros de las líneas</i>\n",
    "\n",
    "| barra i | barra j | n0  | nmax | X reac | capacidad | costo |\n",
    "| :------ | :------ | :-- | :--- | :----- | :-------- | :---- |\n",
    "| 1       | 2       | 0   | 2    | 3      | 0,35      | 3     |\n",
    "| 1       | 3       | 1   | 2    | 2      | 0,4       | 2     |\n",
    "| 1       | 4       | 0   | 2    | 2      | 0,4       | 2     |\n",
    "| 2       | 4       | 0   | 2    | 2      | 0,4       | 2     |\n",
    "| 2       | 3       | 1   | 3    | 2      | 0,4       | 2     |\n",
    "\n",
    "\n"
   ]
  },
  {
   "cell_type": "markdown",
   "metadata": {},
   "source": [
    "## Importar Librerías"
   ]
  },
  {
   "cell_type": "code",
   "execution_count": 1,
   "metadata": {},
   "outputs": [],
   "source": [
    "import time # contador de tiempo\n",
    "import pyomo.environ as pyo # importar la libreria pyomo\n",
    "import pandas as pd # librería para procesamiento dataframe \n"
   ]
  },
  {
   "cell_type": "markdown",
   "metadata": {},
   "source": [
    "## Importar datos del sistema"
   ]
  },
  {
   "cell_type": "code",
   "execution_count": 2,
   "metadata": {},
   "outputs": [],
   "source": [
    "import system_4bar as raw_system\n",
    "lineas = pd.DataFrame(raw_system.datos_lineas,columns=['bus_i','bus_j','n0','nmax','X','cap','costo'])\n",
    "# genera un indice Linea_busi_busj para nombres de las variables tambien\n",
    "index_lineas = ['Linea_']*raw_system.num_lineas + lineas['bus_i'].astype('string') + [\"_\"]*raw_system.num_lineas + lineas['bus_j'].astype('string')\n",
    "lineas.index = index_lineas\n",
    "barras = pd.DataFrame(raw_system.datos_bus,columns=['bus','dem','gmin','gmax'])\n",
    "# genera un indice barra_i para nombres de las variables tambien\n",
    "index_barras = ['barra_']*raw_system.num_barras + barras['bus'].astype('string')\n",
    "barras.index = index_barras"
   ]
  },
  {
   "cell_type": "markdown",
   "metadata": {},
   "source": [
    "## Iniciar modelo de pyomo\n",
    "Existen dos formas de modelo:\n",
    "* Concrete\n",
    "* Abstract\n",
    "En esta guía se usa el modelo concreto"
   ]
  },
  {
   "cell_type": "code",
   "execution_count": 3,
   "metadata": {},
   "outputs": [],
   "source": [
    "model = pyo.ConcreteModel()"
   ]
  },
  {
   "cell_type": "markdown",
   "metadata": {},
   "source": [
    "Declarar conjuntos:\n",
    "* Se puede realizar por medio de diccionarios y de listas externas\n",
    "* En modelos estructurados se requiere el uso de conjuntos sobre los cuales iteran las variables"
   ]
  },
  {
   "cell_type": "markdown",
   "metadata": {},
   "source": [
    "Conjunto de líneas y barras"
   ]
  },
  {
   "cell_type": "code",
   "execution_count": 4,
   "metadata": {},
   "outputs": [],
   "source": [
    "# Conjunto de lineas y de barras\n",
    "model.set_lineas = pyo.Set(initialize=index_lineas)\n",
    "model.set_barras = pyo.Set(initialize=index_barras)"
   ]
  },
  {
   "cell_type": "markdown",
   "metadata": {},
   "source": [
    "Conjunto para modelo disyuntivo <br>\n",
    "* Recordar que es un conjunto basado en línea x nmax <br>\n",
    "\\{ij\\}x\\{1,2,3\\} = \\{(ij,1),(ij,2),(ij,3)\\} <br>"
   ]
  },
  {
   "cell_type": "code",
   "execution_count": 5,
   "metadata": {},
   "outputs": [],
   "source": [
    "# declarar conjunto para variable yijk (variable binaria para proceso de separacion y disyunción)\n",
    "set_nmax = range(max(lineas['nmax'].astype('int')))\n",
    "def set_disyuntivo(m):\n",
    "    ans = [] # arranca vacia la declaracion de parámetros\n",
    "    for i,linea in lineas.iterrows():\n",
    "        if(linea['nmax']>0):\n",
    "            for j in set_nmax:\n",
    "                ans.append((i,j))\n",
    "                #print(i,j)\n",
    "    return ans\n",
    "\n",
    "def filter_disyuntivo(m,ij,k):\n",
    "    if k <= (lineas.loc[ij,'nmax']-1):\n",
    "        return True\n",
    "    else:\n",
    "        return False\n",
    "    \n",
    "\n",
    "model.set_yijk = pyo.Set(within = model.set_lineas * set_nmax,\n",
    "                         initialize=set_disyuntivo,filter=filter_disyuntivo)"
   ]
  },
  {
   "cell_type": "markdown",
   "metadata": {},
   "source": [
    "Declarar un conjunto de generadores <br>\n",
    "es un subconjunto del conjunto de nodos\n"
   ]
  },
  {
   "cell_type": "code",
   "execution_count": 6,
   "metadata": {},
   "outputs": [],
   "source": [
    "# declarar conjunto de generacion (que es un subconjunto de nodos)\n",
    "def subset_gen(m,i):\n",
    "    if (barras.loc[i,'gmax']>0):\n",
    "        return True\n",
    "    else:\n",
    "        return False\n",
    "model.set_gen= pyo.Set(initialize=model.set_barras,within=model.set_barras,filter=subset_gen)"
   ]
  },
  {
   "cell_type": "markdown",
   "metadata": {},
   "source": [
    "# Declaración de variables\n",
    "$f_{ij}$: Flujo de potencia en el corredor i-j<br>\n",
    "$\\theta_i$: Ángulo del nodo <i>i</i><br>\n",
    "$r_i$: Racionamiento del nodo <i>i</i><br>\n",
    "$y_{ijk}$: variable binaria para habilitar la línea *k* en el corredor *i-j*<br>\n",
    "$f_{ijk}$: flujo de potencia por la línea *k* en el corredor *i-j*<br>\n",
    "$g_{i}$: generación en el nodo *i*\n"
   ]
  },
  {
   "cell_type": "code",
   "execution_count": 7,
   "metadata": {},
   "outputs": [],
   "source": [
    "# Declaracion de variables\n",
    "model.fij = pyo.Var(model.set_lineas,name= 'f_ij') # flujo f_ij flujo corredor i-j\n",
    "model.theta = pyo.Var(model.set_barras,name='theta_i', initialize =0) # angulo de flujo entre las líneas\n",
    "model.rac = pyo.Var(model.set_barras,name='r_i', initialize = 0,bounds=(0,None)) # variable de racionamiento del sistema (se implementa como variable de holgura)\n",
    "model.yijk = pyo.Var(model.set_yijk,within=pyo.Binary) # declaracion de las variables disyuntivas\n",
    "model.fijk = pyo.Var(model.set_yijk,within=pyo.Reals) # variable fijk para separacion de flujo \n",
    "# declaracion de límites de las variables\n",
    "def gen_bounds(model,i):\n",
    "    return (barras.loc[i,'gmin'],barras.loc[i,'gmax'])\n",
    "model.gen = pyo.Var(model.set_gen, within=pyo.Reals, bounds=gen_bounds)"
   ]
  },
  {
   "cell_type": "markdown",
   "metadata": {},
   "source": [
    "# Restricciones\n"
   ]
  },
  {
   "cell_type": "markdown",
   "metadata": {},
   "source": [
    "## Balance Nodal\n",
    "$\\sum_{ij \\in \\Omega_L} f_{ij} - \\sum_{ji \\in \\Omega_L} f_{ji} + g_{i} +r_{i}= d_{i} \\quad \\forall i \\in \\Omega_b$\n"
   ]
  },
  {
   "cell_type": "code",
   "execution_count": 8,
   "metadata": {},
   "outputs": [],
   "source": [
    "# Modelo de balance de potencia nodal\n",
    "def balance_nodal(m,i):\n",
    "    lineas_in = index_lineas[(lineas['bus_i']==barras.loc[i,'bus']).tolist()]\n",
    "    lineas_out = index_lineas[(lineas['bus_j']==barras.loc[i,'bus']).tolist()]\n",
    "    if (i in model.set_gen):\n",
    "        return sum(m.fij[linea] for linea in lineas_in)-sum(m.fij[linea] for linea in lineas_out) \\\n",
    "            + m.gen[i] + m.rac[i] == barras.loc[i,'dem']\n",
    "    else:\n",
    "        return sum(m.fij[linea] for linea in lineas_in)-sum(m.fij[linea] for linea in lineas_out) \\\n",
    "            +  m.rac[i] == barras.loc[i,'dem']\n",
    "model.balance_nodal = pyo.Constraint(model.set_barras,rule= balance_nodal)"
   ]
  },
  {
   "cell_type": "markdown",
   "metadata": {},
   "source": [
    "## Relación flujo - tensión angular\n",
    "$f_{ij} - b_{ij}(\\theta_i-\\theta_j)n_{ij}^0 - \\sum_{k \\in K_{ij}} f_{ijk} = 0 \\quad \\forall ij \\in \\Omega_L$"
   ]
  },
  {
   "cell_type": "code",
   "execution_count": 9,
   "metadata": {},
   "outputs": [],
   "source": [
    "# modelo diferencia angular flujo\n",
    "def dif_angular(m,ij):\n",
    "    # determinar los nodos a los cuales se encuentra conectada la linea\n",
    "    bus1 = 'barra_'+lineas.loc[ij,'bus_i'].astype('str')\n",
    "    bus2 = 'barra_'+lineas.loc[ij,'bus_j'].astype('str')\n",
    "    return m.fij[ij] - 1/lineas.loc[ij,'X']*(m.theta[bus1]-m.theta[bus2])*lineas.loc[ij,'n0']-sum(m.fijk[ij,k] for k in range(lineas.loc[ij,'nmax'].astype('int'))) == 0\n",
    "model.flujo_theta = pyo.Constraint(model.set_lineas,rule = dif_angular)  "
   ]
  },
  {
   "cell_type": "markdown",
   "metadata": {},
   "source": [
    "## Límite de capacidad de la línea\n",
    "$|f_{ij}| \\leq (n_{ij}^0+\\sum_{k \\in K_{ij}} y_{ijk})\\overline{f_{ij}} \\quad \\forall ij \\in \\Omega_L$<br>\n",
    "Es equivalente a:<br>\n",
    "$-F \\leq f_{ij} \\leq F$"
   ]
  },
  {
   "cell_type": "code",
   "execution_count": 10,
   "metadata": {},
   "outputs": [],
   "source": [
    "def line_capacity_1(m,linea):\n",
    "    return -(lineas.loc[linea,'n0']+sum(m.yijk[linea,k] for k in range(lineas.loc[linea,'nmax'].astype('int'))))*lineas.loc[linea,'cap'] <= m.fij[linea]\n",
    "def line_capacity_2(m,linea):\n",
    "    return m.fij[linea] <= (lineas.loc[linea,'n0']+sum(m.yijk[linea,k] for k in range(lineas.loc[linea,'nmax'].astype('int'))))*lineas.loc[linea,'cap']\n",
    "model.limit_line1 = pyo.Constraint(model.set_lineas,rule=line_capacity_1)\n",
    "model.limit_line2 = pyo.Constraint(model.set_lineas,rule=line_capacity_2)"
   ]
  },
  {
   "cell_type": "markdown",
   "metadata": {},
   "source": [
    "## Modelo restricción disyuntiva\n",
    "$$-M\\cdot(1-y_{ijk}) \\leq f_{ijk} - b_{ij}(\\theta_i - \\theta_j) \\leq M\\cdot(1-y_{ijk}) \\quad \\forall k \\in K_{ij}, ij \\in \\Omega_L$$"
   ]
  },
  {
   "cell_type": "code",
   "execution_count": 11,
   "metadata": {},
   "outputs": [],
   "source": [
    "model.M=1e3 # parámetro big-M\n",
    "def rest_disyuntiva_1_1(m,ij,k):\n",
    "    # determinar los nodos a los cuales se encuentra conectada la linea\n",
    "    bus1 = 'barra_'+lineas.loc[ij,'bus_i'].astype('str')\n",
    "    bus2 = 'barra_'+lineas.loc[ij,'bus_j'].astype('str')\n",
    "    # retornar la ecuacion\n",
    "    if (k<=lineas.loc[ij,'nmax'].astype('int')):\n",
    "        return -m.M*(1-m.yijk[ij,k]) <= m.fijk[ij,k] - 1/lineas.loc[ij,'X']*(m.theta[bus1]-m.theta[bus2])\n",
    "    else:\n",
    "        return pyo.Constraint.Skip\n",
    "def rest_disyuntiva_1_2(m,ij,k):\n",
    "    # determinar los nodos a los cuales se encuentra conectada la linea\n",
    "    bus1 = 'barra_'+lineas.loc[ij,'bus_i'].astype('str')\n",
    "    bus2 = 'barra_'+lineas.loc[ij,'bus_j'].astype('str')\n",
    "    # retornar la ecuacion\n",
    "    if (k<=lineas.loc[ij,'nmax'].astype('int')):\n",
    "        return m.fijk[ij,k] - 1/lineas.loc[ij,'X']*(m.theta[bus1]-m.theta[bus2]) <= m.M*(1-m.yijk[ij,k]) \n",
    "    else:\n",
    "        return pyo.COnstraint.Skip\n",
    "model.disjoint1_1 = pyo.Constraint(model.set_yijk,rule = rest_disyuntiva_1_1)\n",
    "model.disjoint1_2 = pyo.Constraint(model.set_yijk,rule = rest_disyuntiva_1_2)"
   ]
  },
  {
   "cell_type": "markdown",
   "metadata": {},
   "source": [
    "$$-My_{ijk} \\leq f_{ijk} \\leq My_{ijk} \\quad \\forall k \\in K_{ij}, ij \\in \\Omega_L$$\n"
   ]
  },
  {
   "cell_type": "code",
   "execution_count": 12,
   "metadata": {},
   "outputs": [],
   "source": [
    "def rest_disyuntiva_2_1(m,ij,k):\n",
    "    if (k<=lineas.loc[ij,'nmax'].astype('int')):\n",
    "        return -1*m.M*m.yijk[ij,k] <= m.fijk[ij,k]\n",
    "    else:\n",
    "        return pyo.Constraint.Skip\n",
    "def rest_disyuntiva_2_2(m,ij,k):\n",
    "    if (k<=lineas.loc[ij,'nmax'].astype('int')):\n",
    "        return  m.fijk[ij,k] <= m.M*m.yijk[ij,k]\n",
    "    else:\n",
    "        return Constraint.Skip\n",
    "\n",
    "model.disjoint2_1 = pyo.Constraint(model.set_yijk,rule=rest_disyuntiva_2_1)\n",
    "model.disjoint2_2 = pyo.Constraint(model.set_yijk,rule=rest_disyuntiva_2_2)"
   ]
  },
  {
   "cell_type": "markdown",
   "metadata": {},
   "source": [
    "## Función objetivo\n",
    "$$\\min \\sum_{ij \\in \\Omega_L} c_{ij} \\sum_{k \\in K_{ij}} y_{ijk} + \\alpha \\sum_{i \\in \\Omega_b} r_i$$"
   ]
  },
  {
   "cell_type": "code",
   "execution_count": 13,
   "metadata": {},
   "outputs": [],
   "source": [
    "# funcion objetivo\n",
    "def FO(m):\n",
    "    return 10000*sum(m.rac[i] for i in m.set_barras) + sum(lineas.loc[ij,'costo']*sum(m.yijk[ij,k] for k in range(lineas.loc[ij,'nmax'].astype('int'))) for ij in m.set_lineas)\n",
    "# incluir en el modelo\n",
    "model.objetivo = pyo.Objective(rule=FO,sense = pyo.minimize)"
   ]
  },
  {
   "cell_type": "markdown",
   "metadata": {},
   "source": [
    "*Impresión del modelo*"
   ]
  },
  {
   "cell_type": "code",
   "execution_count": 14,
   "metadata": {},
   "outputs": [
    {
     "name": "stdout",
     "output_type": "stream",
     "text": [
      "6 Set Declarations\n",
      "    set_barras : Size=1, Index=None, Ordered=Insertion\n",
      "        Key  : Dimen : Domain : Size : Members\n",
      "        None :     1 :    Any :    4 : {'barra_1', 'barra_2', 'barra_3', 'barra_4'}\n",
      "    set_gen : Size=1, Index=None, Ordered=Insertion\n",
      "        Key  : Dimen : Domain     : Size : Members\n",
      "        None :     1 : set_barras :    1 : {'barra_1',}\n",
      "    set_lineas : Size=1, Index=None, Ordered=Insertion\n",
      "        Key  : Dimen : Domain : Size : Members\n",
      "        None :     1 :    Any :    5 : {'Linea_1_2', 'Linea_1_3', 'Linea_1_4', 'Linea_2_4', 'Linea_2_3'}\n",
      "    set_yijk : Size=1, Index=None, Ordered=Insertion\n",
      "        Key  : Dimen : Domain          : Size : Members\n",
      "        None :     2 : set_yijk_domain :   11 : {('Linea_1_2', 0), ('Linea_1_2', 1), ('Linea_1_3', 0), ('Linea_1_3', 1), ('Linea_1_4', 0), ('Linea_1_4', 1), ('Linea_2_4', 0), ('Linea_2_4', 1), ('Linea_2_3', 0), ('Linea_2_3', 1), ('Linea_2_3', 2)}\n",
      "    set_yijk_domain : Size=1, Index=None, Ordered=False\n",
      "        Key  : Dimen : Domain                             : Size : Members\n",
      "        None :     2 : set_lineas*set_yijk_domain_index_0 :   15 : {('Linea_1_2', 0), ('Linea_1_2', 1), ('Linea_1_2', 2), ('Linea_1_3', 0), ('Linea_1_3', 1), ('Linea_1_3', 2), ('Linea_1_4', 0), ('Linea_1_4', 1), ('Linea_1_4', 2), ('Linea_2_3', 0), ('Linea_2_3', 1), ('Linea_2_3', 2), ('Linea_2_4', 0), ('Linea_2_4', 1), ('Linea_2_4', 2)}\n",
      "    set_yijk_domain_index_0 : Size=1, Index=None, Ordered=Insertion\n",
      "        Key  : Dimen : Domain : Size : Members\n",
      "        None :     1 :    Any :    3 : {0, 1, 2}\n",
      "\n",
      "6 Var Declarations\n",
      "    fij : Size=5, Index=set_lineas\n",
      "        Key       : Lower : Value : Upper : Fixed : Stale : Domain\n",
      "        Linea_1_2 :  None :  None :  None : False :  True :  Reals\n",
      "        Linea_1_3 :  None :  None :  None : False :  True :  Reals\n",
      "        Linea_1_4 :  None :  None :  None : False :  True :  Reals\n",
      "        Linea_2_3 :  None :  None :  None : False :  True :  Reals\n",
      "        Linea_2_4 :  None :  None :  None : False :  True :  Reals\n",
      "    fijk : Size=11, Index=set_yijk\n",
      "        Key              : Lower : Value : Upper : Fixed : Stale : Domain\n",
      "        ('Linea_1_2', 0) :  None :  None :  None : False :  True :  Reals\n",
      "        ('Linea_1_2', 1) :  None :  None :  None : False :  True :  Reals\n",
      "        ('Linea_1_3', 0) :  None :  None :  None : False :  True :  Reals\n",
      "        ('Linea_1_3', 1) :  None :  None :  None : False :  True :  Reals\n",
      "        ('Linea_1_4', 0) :  None :  None :  None : False :  True :  Reals\n",
      "        ('Linea_1_4', 1) :  None :  None :  None : False :  True :  Reals\n",
      "        ('Linea_2_3', 0) :  None :  None :  None : False :  True :  Reals\n",
      "        ('Linea_2_3', 1) :  None :  None :  None : False :  True :  Reals\n",
      "        ('Linea_2_3', 2) :  None :  None :  None : False :  True :  Reals\n",
      "        ('Linea_2_4', 0) :  None :  None :  None : False :  True :  Reals\n",
      "        ('Linea_2_4', 1) :  None :  None :  None : False :  True :  Reals\n",
      "    gen : Size=1, Index=set_gen\n",
      "        Key     : Lower : Value : Upper : Fixed : Stale : Domain\n",
      "        barra_1 :   0.0 :  None :  1.05 : False :  True :  Reals\n",
      "    rac : Size=4, Index=set_barras\n",
      "        Key     : Lower : Value : Upper : Fixed : Stale : Domain\n",
      "        barra_1 :     0 :     0 :  None : False : False :  Reals\n",
      "        barra_2 :     0 :     0 :  None : False : False :  Reals\n",
      "        barra_3 :     0 :     0 :  None : False : False :  Reals\n",
      "        barra_4 :     0 :     0 :  None : False : False :  Reals\n",
      "    theta : Size=4, Index=set_barras\n",
      "        Key     : Lower : Value : Upper : Fixed : Stale : Domain\n",
      "        barra_1 :  None :     0 :  None : False : False :  Reals\n",
      "        barra_2 :  None :     0 :  None : False : False :  Reals\n",
      "        barra_3 :  None :     0 :  None : False : False :  Reals\n",
      "        barra_4 :  None :     0 :  None : False : False :  Reals\n",
      "    yijk : Size=11, Index=set_yijk\n",
      "        Key              : Lower : Value : Upper : Fixed : Stale : Domain\n",
      "        ('Linea_1_2', 0) :     0 :  None :     1 : False :  True : Binary\n",
      "        ('Linea_1_2', 1) :     0 :  None :     1 : False :  True : Binary\n",
      "        ('Linea_1_3', 0) :     0 :  None :     1 : False :  True : Binary\n",
      "        ('Linea_1_3', 1) :     0 :  None :     1 : False :  True : Binary\n",
      "        ('Linea_1_4', 0) :     0 :  None :     1 : False :  True : Binary\n",
      "        ('Linea_1_4', 1) :     0 :  None :     1 : False :  True : Binary\n",
      "        ('Linea_2_3', 0) :     0 :  None :     1 : False :  True : Binary\n",
      "        ('Linea_2_3', 1) :     0 :  None :     1 : False :  True : Binary\n",
      "        ('Linea_2_3', 2) :     0 :  None :     1 : False :  True : Binary\n",
      "        ('Linea_2_4', 0) :     0 :  None :     1 : False :  True : Binary\n",
      "        ('Linea_2_4', 1) :     0 :  None :     1 : False :  True : Binary\n",
      "\n",
      "1 Objective Declarations\n",
      "    objetivo : Size=1, Index=None, Active=True\n",
      "        Key  : Active : Sense    : Expression\n",
      "        None :   True : minimize : 3*(yijk[Linea_1_2,0] + yijk[Linea_1_2,1]) + 2*(yijk[Linea_1_3,0] + yijk[Linea_1_3,1]) + 2*(yijk[Linea_1_4,0] + yijk[Linea_1_4,1]) + 2*(yijk[Linea_2_4,0] + yijk[Linea_2_4,1]) + 2*(yijk[Linea_2_3,0] + yijk[Linea_2_3,1] + yijk[Linea_2_3,2]) + 10000*(rac[barra_1] + rac[barra_2] + rac[barra_3] + rac[barra_4])\n",
      "\n",
      "8 Constraint Declarations\n",
      "    balance_nodal : Size=4, Index=set_barras, Active=True\n",
      "        Key     : Lower : Body                                                                           : Upper : Active\n",
      "        barra_1 :   0.0 : fij[Linea_1_2] + fij[Linea_1_3] + fij[Linea_1_4] + gen[barra_1] + rac[barra_1] :   0.0 :   True\n",
      "        barra_2 :   0.6 :                fij[Linea_2_4] + fij[Linea_2_3] - fij[Linea_1_2] + rac[barra_2] :   0.6 :   True\n",
      "        barra_3 :   0.2 :                             - (fij[Linea_1_3] + fij[Linea_2_3]) + rac[barra_3] :   0.2 :   True\n",
      "        barra_4 :  0.25 :                             - (fij[Linea_1_4] + fij[Linea_2_4]) + rac[barra_4] :  0.25 :   True\n",
      "    disjoint1_1 : Size=11, Index=set_yijk, Active=True\n",
      "        Key              : Lower : Body                                                                                                         : Upper : Active\n",
      "        ('Linea_1_2', 0) :  -Inf : -1000.0*(1 - yijk[Linea_1_2,0]) - (fijk[Linea_1_2,0] - 0.3333333333333333*(theta[barra_1] - theta[barra_2])) :   0.0 :   True\n",
      "        ('Linea_1_2', 1) :  -Inf : -1000.0*(1 - yijk[Linea_1_2,1]) - (fijk[Linea_1_2,1] - 0.3333333333333333*(theta[barra_1] - theta[barra_2])) :   0.0 :   True\n",
      "        ('Linea_1_3', 0) :  -Inf :                -1000.0*(1 - yijk[Linea_1_3,0]) - (fijk[Linea_1_3,0] - 0.5*(theta[barra_1] - theta[barra_3])) :   0.0 :   True\n",
      "        ('Linea_1_3', 1) :  -Inf :                -1000.0*(1 - yijk[Linea_1_3,1]) - (fijk[Linea_1_3,1] - 0.5*(theta[barra_1] - theta[barra_3])) :   0.0 :   True\n",
      "        ('Linea_1_4', 0) :  -Inf :                -1000.0*(1 - yijk[Linea_1_4,0]) - (fijk[Linea_1_4,0] - 0.5*(theta[barra_1] - theta[barra_4])) :   0.0 :   True\n",
      "        ('Linea_1_4', 1) :  -Inf :                -1000.0*(1 - yijk[Linea_1_4,1]) - (fijk[Linea_1_4,1] - 0.5*(theta[barra_1] - theta[barra_4])) :   0.0 :   True\n",
      "        ('Linea_2_3', 0) :  -Inf :                -1000.0*(1 - yijk[Linea_2_3,0]) - (fijk[Linea_2_3,0] - 0.5*(theta[barra_2] - theta[barra_3])) :   0.0 :   True\n",
      "        ('Linea_2_3', 1) :  -Inf :                -1000.0*(1 - yijk[Linea_2_3,1]) - (fijk[Linea_2_3,1] - 0.5*(theta[barra_2] - theta[barra_3])) :   0.0 :   True\n",
      "        ('Linea_2_3', 2) :  -Inf :                -1000.0*(1 - yijk[Linea_2_3,2]) - (fijk[Linea_2_3,2] - 0.5*(theta[barra_2] - theta[barra_3])) :   0.0 :   True\n",
      "        ('Linea_2_4', 0) :  -Inf :                -1000.0*(1 - yijk[Linea_2_4,0]) - (fijk[Linea_2_4,0] - 0.5*(theta[barra_2] - theta[barra_4])) :   0.0 :   True\n",
      "        ('Linea_2_4', 1) :  -Inf :                -1000.0*(1 - yijk[Linea_2_4,1]) - (fijk[Linea_2_4,1] - 0.5*(theta[barra_2] - theta[barra_4])) :   0.0 :   True\n",
      "    disjoint1_2 : Size=11, Index=set_yijk, Active=True\n",
      "        Key              : Lower : Body                                                                                                      : Upper : Active\n",
      "        ('Linea_1_2', 0) :  -Inf : fijk[Linea_1_2,0] - 0.3333333333333333*(theta[barra_1] - theta[barra_2]) - 1000.0*(1 - yijk[Linea_1_2,0]) :   0.0 :   True\n",
      "        ('Linea_1_2', 1) :  -Inf : fijk[Linea_1_2,1] - 0.3333333333333333*(theta[barra_1] - theta[barra_2]) - 1000.0*(1 - yijk[Linea_1_2,1]) :   0.0 :   True\n",
      "        ('Linea_1_3', 0) :  -Inf :                fijk[Linea_1_3,0] - 0.5*(theta[barra_1] - theta[barra_3]) - 1000.0*(1 - yijk[Linea_1_3,0]) :   0.0 :   True\n",
      "        ('Linea_1_3', 1) :  -Inf :                fijk[Linea_1_3,1] - 0.5*(theta[barra_1] - theta[barra_3]) - 1000.0*(1 - yijk[Linea_1_3,1]) :   0.0 :   True\n",
      "        ('Linea_1_4', 0) :  -Inf :                fijk[Linea_1_4,0] - 0.5*(theta[barra_1] - theta[barra_4]) - 1000.0*(1 - yijk[Linea_1_4,0]) :   0.0 :   True\n",
      "        ('Linea_1_4', 1) :  -Inf :                fijk[Linea_1_4,1] - 0.5*(theta[barra_1] - theta[barra_4]) - 1000.0*(1 - yijk[Linea_1_4,1]) :   0.0 :   True\n",
      "        ('Linea_2_3', 0) :  -Inf :                fijk[Linea_2_3,0] - 0.5*(theta[barra_2] - theta[barra_3]) - 1000.0*(1 - yijk[Linea_2_3,0]) :   0.0 :   True\n",
      "        ('Linea_2_3', 1) :  -Inf :                fijk[Linea_2_3,1] - 0.5*(theta[barra_2] - theta[barra_3]) - 1000.0*(1 - yijk[Linea_2_3,1]) :   0.0 :   True\n",
      "        ('Linea_2_3', 2) :  -Inf :                fijk[Linea_2_3,2] - 0.5*(theta[barra_2] - theta[barra_3]) - 1000.0*(1 - yijk[Linea_2_3,2]) :   0.0 :   True\n",
      "        ('Linea_2_4', 0) :  -Inf :                fijk[Linea_2_4,0] - 0.5*(theta[barra_2] - theta[barra_4]) - 1000.0*(1 - yijk[Linea_2_4,0]) :   0.0 :   True\n",
      "        ('Linea_2_4', 1) :  -Inf :                fijk[Linea_2_4,1] - 0.5*(theta[barra_2] - theta[barra_4]) - 1000.0*(1 - yijk[Linea_2_4,1]) :   0.0 :   True\n",
      "    disjoint2_1 : Size=11, Index=set_yijk, Active=True\n",
      "        Key              : Lower : Body                                          : Upper : Active\n",
      "        ('Linea_1_2', 0) :  -Inf : -1000.0*yijk[Linea_1_2,0] - fijk[Linea_1_2,0] :   0.0 :   True\n",
      "        ('Linea_1_2', 1) :  -Inf : -1000.0*yijk[Linea_1_2,1] - fijk[Linea_1_2,1] :   0.0 :   True\n",
      "        ('Linea_1_3', 0) :  -Inf : -1000.0*yijk[Linea_1_3,0] - fijk[Linea_1_3,0] :   0.0 :   True\n",
      "        ('Linea_1_3', 1) :  -Inf : -1000.0*yijk[Linea_1_3,1] - fijk[Linea_1_3,1] :   0.0 :   True\n",
      "        ('Linea_1_4', 0) :  -Inf : -1000.0*yijk[Linea_1_4,0] - fijk[Linea_1_4,0] :   0.0 :   True\n",
      "        ('Linea_1_4', 1) :  -Inf : -1000.0*yijk[Linea_1_4,1] - fijk[Linea_1_4,1] :   0.0 :   True\n",
      "        ('Linea_2_3', 0) :  -Inf : -1000.0*yijk[Linea_2_3,0] - fijk[Linea_2_3,0] :   0.0 :   True\n",
      "        ('Linea_2_3', 1) :  -Inf : -1000.0*yijk[Linea_2_3,1] - fijk[Linea_2_3,1] :   0.0 :   True\n",
      "        ('Linea_2_3', 2) :  -Inf : -1000.0*yijk[Linea_2_3,2] - fijk[Linea_2_3,2] :   0.0 :   True\n",
      "        ('Linea_2_4', 0) :  -Inf : -1000.0*yijk[Linea_2_4,0] - fijk[Linea_2_4,0] :   0.0 :   True\n",
      "        ('Linea_2_4', 1) :  -Inf : -1000.0*yijk[Linea_2_4,1] - fijk[Linea_2_4,1] :   0.0 :   True\n",
      "    disjoint2_2 : Size=11, Index=set_yijk, Active=True\n",
      "        Key              : Lower : Body                                         : Upper : Active\n",
      "        ('Linea_1_2', 0) :  -Inf : fijk[Linea_1_2,0] - 1000.0*yijk[Linea_1_2,0] :   0.0 :   True\n",
      "        ('Linea_1_2', 1) :  -Inf : fijk[Linea_1_2,1] - 1000.0*yijk[Linea_1_2,1] :   0.0 :   True\n",
      "        ('Linea_1_3', 0) :  -Inf : fijk[Linea_1_3,0] - 1000.0*yijk[Linea_1_3,0] :   0.0 :   True\n",
      "        ('Linea_1_3', 1) :  -Inf : fijk[Linea_1_3,1] - 1000.0*yijk[Linea_1_3,1] :   0.0 :   True\n",
      "        ('Linea_1_4', 0) :  -Inf : fijk[Linea_1_4,0] - 1000.0*yijk[Linea_1_4,0] :   0.0 :   True\n",
      "        ('Linea_1_4', 1) :  -Inf : fijk[Linea_1_4,1] - 1000.0*yijk[Linea_1_4,1] :   0.0 :   True\n",
      "        ('Linea_2_3', 0) :  -Inf : fijk[Linea_2_3,0] - 1000.0*yijk[Linea_2_3,0] :   0.0 :   True\n",
      "        ('Linea_2_3', 1) :  -Inf : fijk[Linea_2_3,1] - 1000.0*yijk[Linea_2_3,1] :   0.0 :   True\n",
      "        ('Linea_2_3', 2) :  -Inf : fijk[Linea_2_3,2] - 1000.0*yijk[Linea_2_3,2] :   0.0 :   True\n",
      "        ('Linea_2_4', 0) :  -Inf : fijk[Linea_2_4,0] - 1000.0*yijk[Linea_2_4,0] :   0.0 :   True\n",
      "        ('Linea_2_4', 1) :  -Inf : fijk[Linea_2_4,1] - 1000.0*yijk[Linea_2_4,1] :   0.0 :   True\n",
      "    flujo_theta : Size=5, Index=set_lineas, Active=True\n",
      "        Key       : Lower : Body                                                                                                                 : Upper : Active\n",
      "        Linea_1_2 :   0.0 :                                                             fij[Linea_1_2] - (fijk[Linea_1_2,0] + fijk[Linea_1_2,1]) :   0.0 :   True\n",
      "        Linea_1_3 :   0.0 :                     fij[Linea_1_3] - 0.5*(theta[barra_1] - theta[barra_3]) - (fijk[Linea_1_3,0] + fijk[Linea_1_3,1]) :   0.0 :   True\n",
      "        Linea_1_4 :   0.0 :                                                             fij[Linea_1_4] - (fijk[Linea_1_4,0] + fijk[Linea_1_4,1]) :   0.0 :   True\n",
      "        Linea_2_3 :   0.0 : fij[Linea_2_3] - 0.5*(theta[barra_2] - theta[barra_3]) - (fijk[Linea_2_3,0] + fijk[Linea_2_3,1] + fijk[Linea_2_3,2]) :   0.0 :   True\n",
      "        Linea_2_4 :   0.0 :                                                             fij[Linea_2_4] - (fijk[Linea_2_4,0] + fijk[Linea_2_4,1]) :   0.0 :   True\n",
      "    limit_line1 : Size=5, Index=set_lineas, Active=True\n",
      "        Key       : Lower : Body                                                                                   : Upper : Active\n",
      "        Linea_1_2 :  -Inf :                        - (yijk[Linea_1_2,0] + yijk[Linea_1_2,1])*0.35 - fij[Linea_1_2] :   0.0 :   True\n",
      "        Linea_1_3 :  -Inf :                     - (yijk[Linea_1_3,0] + yijk[Linea_1_3,1] + 1)*0.4 - fij[Linea_1_3] :   0.0 :   True\n",
      "        Linea_1_4 :  -Inf :                         - (yijk[Linea_1_4,0] + yijk[Linea_1_4,1])*0.4 - fij[Linea_1_4] :   0.0 :   True\n",
      "        Linea_2_3 :  -Inf : - (yijk[Linea_2_3,0] + yijk[Linea_2_3,1] + yijk[Linea_2_3,2] + 1)*0.4 - fij[Linea_2_3] :   0.0 :   True\n",
      "        Linea_2_4 :  -Inf :                         - (yijk[Linea_2_4,0] + yijk[Linea_2_4,1])*0.4 - fij[Linea_2_4] :   0.0 :   True\n",
      "    limit_line2 : Size=5, Index=set_lineas, Active=True\n",
      "        Key       : Lower : Body                                                                                 : Upper : Active\n",
      "        Linea_1_2 :  -Inf :                        fij[Linea_1_2] - (yijk[Linea_1_2,0] + yijk[Linea_1_2,1])*0.35 :   0.0 :   True\n",
      "        Linea_1_3 :  -Inf :                     fij[Linea_1_3] - (yijk[Linea_1_3,0] + yijk[Linea_1_3,1] + 1)*0.4 :   0.0 :   True\n",
      "        Linea_1_4 :  -Inf :                         fij[Linea_1_4] - (yijk[Linea_1_4,0] + yijk[Linea_1_4,1])*0.4 :   0.0 :   True\n",
      "        Linea_2_3 :  -Inf : fij[Linea_2_3] - (yijk[Linea_2_3,0] + yijk[Linea_2_3,1] + yijk[Linea_2_3,2] + 1)*0.4 :   0.0 :   True\n",
      "        Linea_2_4 :  -Inf :                         fij[Linea_2_4] - (yijk[Linea_2_4,0] + yijk[Linea_2_4,1])*0.4 :   0.0 :   True\n",
      "\n",
      "21 Declarations: set_lineas set_barras set_yijk_domain_index_0 set_yijk_domain set_yijk set_gen fij theta rac yijk fijk gen balance_nodal flujo_theta limit_line1 limit_line2 disjoint1_1 disjoint1_2 disjoint2_1 disjoint2_2 objetivo\n"
     ]
    }
   ],
   "source": [
    "model.pprint()"
   ]
  },
  {
   "cell_type": "markdown",
   "metadata": {},
   "source": [
    "## Solución del Modelo\n",
    "**Pyomo** solamente realiza el modelo, para su solución se debe invocar un solver. Como el problema es MILP se usará el solver gratuito [glpk](https://www.gnu.org/software/glpk/)"
   ]
  },
  {
   "cell_type": "code",
   "execution_count": 15,
   "metadata": {},
   "outputs": [
    {
     "name": "stdout",
     "output_type": "stream",
     "text": [
      "GLPSOL: GLPK LP/MIP Solver, v4.65\n",
      "Parameter(s) specified in the command line:\n",
      " --write C:\\Users\\CAMILO~1\\AppData\\Local\\Temp\\tmpubk5_l0o.glpk.raw --wglp\n",
      " C:\\Users\\CAMILO~1\\AppData\\Local\\Temp\\tmp0dlcubrv.glpk.glp --cpxlp C:\\Users\\CAMILO~1\\AppData\\Local\\Temp\\tmpkjdbwlrf.pyomo.lp\n",
      "Reading problem data from 'C:\\Users\\CAMILO~1\\AppData\\Local\\Temp\\tmpkjdbwlrf.pyomo.lp'...\n",
      "C:\\Users\\CAMILO~1\\AppData\\Local\\Temp\\tmpkjdbwlrf.pyomo.lp:452: warning: lower bound of variable 'x14' redefined\n",
      "C:\\Users\\CAMILO~1\\AppData\\Local\\Temp\\tmpkjdbwlrf.pyomo.lp:452: warning: upper bound of variable 'x14' redefined\n",
      "64 rows, 37 columns, 200 non-zeros\n",
      "11 integer variables, all of which are binary\n",
      "463 lines were read\n",
      "Writing problem data to 'C:\\Users\\CAMILO~1\\AppData\\Local\\Temp\\tmp0dlcubrv.glpk.glp'...\n",
      "403 lines were written\n",
      "GLPK Integer Optimizer, v4.65\n",
      "64 rows, 37 columns, 200 non-zeros\n",
      "11 integer variables, all of which are binary\n",
      "Preprocessing...\n",
      "63 rows, 32 columns, 195 non-zeros\n",
      "11 integer variables, all of which are binary\n",
      "Scaling...\n",
      " A: min|aij| =  3.333e-01  max|aij| =  1.000e+03  ratio =  3.000e+03\n",
      "GM: min|aij| =  2.495e-01  max|aij| =  4.008e+00  ratio =  1.607e+01\n",
      "EQ: min|aij| =  6.353e-02  max|aij| =  1.000e+00  ratio =  1.574e+01\n",
      "2N: min|aij| =  4.167e-02  max|aij| =  1.000e+00  ratio =  2.400e+01\n",
      "Constructing initial basis...\n",
      "Size of triangular part is 63\n",
      "Solving LP relaxation...\n",
      "GLPK Simplex Optimizer, v4.65\n",
      "63 rows, 32 columns, 195 non-zeros\n",
      "      0: obj =   1.050000000e+04 inf =   2.051e+03 (27)\n",
      "     40: obj =   1.051067185e+04 inf =   2.842e-14 (0)\n",
      "*    54: obj =   3.964285713e+00 inf =   7.925e-13 (0)\n",
      "OPTIMAL LP SOLUTION FOUND\n",
      "Integer optimization begins...\n",
      "Long-step dual simplex will be used\n",
      "+    54: mip =     not found yet >=              -inf        (1; 0)\n",
      "+    74: >>>>>   6.000000000e+00 >=   4.250000000e+00  29.2% (10; 0)\n",
      "+   140: mip =   6.000000000e+00 >=     tree is empty   0.0% (0; 27)\n",
      "INTEGER OPTIMAL SOLUTION FOUND\n",
      "Time used:   0.0 secs\n",
      "Memory used: 0.2 Mb (167736 bytes)\n",
      "Writing MIP solution to 'C:\\Users\\CAMILO~1\\AppData\\Local\\Temp\\tmpubk5_l0o.glpk.raw'...\n",
      "110 lines were written\n"
     ]
    },
    {
     "data": {
      "text/plain": [
       "{'Problem': [{'Name': 'unknown', 'Lower bound': 5.99999999999889, 'Upper bound': 5.99999999999889, 'Number of objectives': 1, 'Number of constraints': 64, 'Number of variables': 37, 'Number of nonzeros': 200, 'Sense': 'minimize'}], 'Solver': [{'Status': 'ok', 'Termination condition': 'optimal', 'Statistics': {'Branch and bound': {'Number of bounded subproblems': '27', 'Number of created subproblems': '27'}}, 'Error rc': 0, 'Time': 0.11655306816101074}], 'Solution': [OrderedDict([('number of solutions', 0), ('number of solutions displayed', 0)])]}"
      ]
     },
     "execution_count": 15,
     "metadata": {},
     "output_type": "execute_result"
    }
   ],
   "source": [
    "solver = pyo.SolverFactory('glpk') # invocación del solver\n",
    "# resolver el modelo\n",
    "solver.solve(model, tee = True)"
   ]
  },
  {
   "cell_type": "markdown",
   "metadata": {},
   "source": [
    "## Imprimir Resultados"
   ]
  },
  {
   "cell_type": "code",
   "execution_count": 16,
   "metadata": {},
   "outputs": [
    {
     "name": "stdout",
     "output_type": "stream",
     "text": [
      "#################FUNCION OBJETIVO####################\n",
      "5.99999999999889\n",
      "Corredores nuevos en Linea_1_2: 0.0\n",
      "Corredores nuevos en Linea_1_3: 1.0\n",
      "Corredores nuevos en Linea_1_4: 1.0\n",
      "Corredores nuevos en Linea_2_4: 0.0\n",
      "Corredores nuevos en Linea_2_3: 1.0\n"
     ]
    }
   ],
   "source": [
    "print('#################FUNCION OBJETIVO####################')\n",
    "print(pyo.value(model.objetivo))\n",
    "# corredores nuevos usados\n",
    "for ij in model.set_lineas:\n",
    "    x = pyo.value(sum(model.yijk[ij,k]for k in range(lineas.loc[ij,'nmax'].astype('int'))))\n",
    "    print(\"Corredores nuevos en \"+ij+\": \"+str(x))"
   ]
  },
  {
   "cell_type": "markdown",
   "metadata": {},
   "source": [
    "Realizar Pruebas Adicionales para revisar otras condiciones de solución"
   ]
  }
 ],
 "metadata": {
  "kernelspec": {
   "display_name": "Python 3",
   "language": "python",
   "name": "python3"
  },
  "language_info": {
   "codemirror_mode": {
    "name": "ipython",
    "version": 3
   },
   "file_extension": ".py",
   "mimetype": "text/x-python",
   "name": "python",
   "nbconvert_exporter": "python",
   "pygments_lexer": "ipython3",
   "version": "3.10.2"
  },
  "orig_nbformat": 4
 },
 "nbformat": 4,
 "nbformat_minor": 2
}
